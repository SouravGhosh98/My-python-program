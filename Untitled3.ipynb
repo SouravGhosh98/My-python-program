{
 "cells": [
  {
   "cell_type": "code",
   "execution_count": 5,
   "id": "785ea774",
   "metadata": {},
   "outputs": [
    {
     "data": {
      "text/plain": [
       "387420489"
      ]
     },
     "execution_count": 5,
     "metadata": {},
     "output_type": "execute_result"
    }
   ],
   "source": [
    "# lamda function in python\n",
    "x= lambda a:a**a\n",
    "x(9)   "
   ]
  },
  {
   "cell_type": "code",
   "execution_count": 6,
   "id": "52bd8b87",
   "metadata": {},
   "outputs": [
    {
     "name": "stdout",
     "output_type": "stream",
     "text": [
      "25\n"
     ]
    }
   ],
   "source": [
    "# anonymous function\n",
    "print((lambda a,b:a**b)(5,2))"
   ]
  },
  {
   "cell_type": "code",
   "execution_count": 7,
   "id": "a41a7e61",
   "metadata": {},
   "outputs": [
    {
     "name": "stdout",
     "output_type": "stream",
     "text": [
      "empty class and object created\n"
     ]
    }
   ],
   "source": [
    "# oops concept !how can i create a empty class\n",
    "class a():\n",
    "    pass\n",
    "obj=a()\n",
    "print(\"empty class and object created\")"
   ]
  },
  {
   "cell_type": "code",
   "execution_count": 13,
   "id": "9f726ed1",
   "metadata": {},
   "outputs": [
    {
     "name": "stdout",
     "output_type": "stream",
     "text": [
      "no argument are passed\n",
      "passing one argument is 2\n",
      "Addition of two number = 5\n"
     ]
    }
   ],
   "source": [
    "# polymorpisom in python method overloading\n",
    "class m():\n",
    "    def __init__(self,a='none',b='none'):\n",
    "        self.a=a\n",
    "        self.b=b\n",
    "        if a=='none' and b=='none':\n",
    "            print(\"no argument are passed\")\n",
    "        elif a!='none' and b=='none':\n",
    "            print (f\"passing one argument is {self.a}\")\n",
    "        else:\n",
    "            print(f\"Addition of two number = {self.a + self.b}\")\n",
    "ob=m()\n",
    "ob1=m(2)\n",
    "ob2=m(2,3)\n",
    "            "
   ]
  },
  {
   "cell_type": "code",
   "execution_count": 15,
   "id": "74836b23",
   "metadata": {},
   "outputs": [
    {
     "name": "stdout",
     "output_type": "stream",
     "text": [
      "from child class\n",
      "hi everyone\n",
      "from parent class\n"
     ]
    }
   ],
   "source": [
    "# method overriding in python polymorphisom\n",
    "class m():\n",
    "    def show(self):\n",
    "        print(\"from parent class\")\n",
    "class s(m):\n",
    "    def show(self):\n",
    "        print(\"from child class\")\n",
    "    def hi(self):\n",
    "        print(\"hi everyone\")\n",
    "obj=s()\n",
    "obj.show()\n",
    "obj.hi()\n",
    "obj2=m()\n",
    "obj2.show()    "
   ]
  },
  {
   "cell_type": "code",
   "execution_count": 28,
   "id": "773e5b65",
   "metadata": {},
   "outputs": [
    {
     "name": "stdout",
     "output_type": "stream",
     "text": [
      "15\n"
     ]
    }
   ],
   "source": [
    "# operator overloading in polymorphisom in python\n",
    "class m():\n",
    "    def __init__(self,a):\n",
    "        self.a=a\n",
    "    def __mul__(self,t):\n",
    "        return self.a*t.a    \n",
    "        '''print(self.a)\n",
    "class s():\n",
    "    def __init__(self,b):\n",
    "        self.b=b\n",
    "        print(self.b)'''\n",
    "\n",
    "        \n",
    "ob=m(3)\n",
    "obj=m(5)\n",
    "print(ob*obj)"
   ]
  },
  {
   "cell_type": "code",
   "execution_count": 44,
   "id": "4b9964d4",
   "metadata": {},
   "outputs": [
    {
     "name": "stdout",
     "output_type": "stream",
     "text": [
      "10\n",
      "12\n",
      "10\n",
      "private attribute not accessable\n",
      "this is protcted value 12\n",
      "10\n"
     ]
    }
   ],
   "source": [
    "# encapctulation in python\n",
    "class m():\n",
    "    __a=10\n",
    "    _b=12\n",
    "    c=10\n",
    "    def show(self):\n",
    "        print(f\"{self.__a}\")\n",
    "        print(f\"{self._b}\")\n",
    "        print(f\"{self.c}\")\n",
    "class s(m):\n",
    "    def show1(self):\n",
    "        try:\n",
    "            print(f\"{self.__a}\")\n",
    "        except:\n",
    "            print(\"private attribute not accessable\")\n",
    "        print(f\"this is protcted value {self._b}\")\n",
    "        print(f\"{self.c}\")\n",
    "\n",
    "    \n",
    "b=m()\n",
    "b.show()\n",
    "c=s()\n",
    "c.show1()"
   ]
  },
  {
   "cell_type": "code",
   "execution_count": 49,
   "id": "b035a611",
   "metadata": {},
   "outputs": [
    {
     "name": "stdout",
     "output_type": "stream",
     "text": [
      "speed is 30kmh\n",
      "speed is 50 kmh\n",
      "speed is 60 kmh\n"
     ]
    }
   ],
   "source": [
    "# abstruction in python\n",
    "from abc import ABC\n",
    "class bike(ABC):\n",
    "    def speed(self):\n",
    "        pass\n",
    "class discover(bike):\n",
    "    def speed(self):\n",
    "        print(\"speed is 30kmh\")\n",
    "class platina(bike):\n",
    "    def speed(self):\n",
    "        print(\"speed is 50 kmh\")\n",
    "class activa(bike):\n",
    "    def speed(self):\n",
    "        print(\"speed is 60 kmh\")        \n",
    "a=discover()\n",
    "b=platina()\n",
    "c=activa()\n",
    "a.speed()\n",
    "b.speed()\n",
    "c.speed()"
   ]
  },
  {
   "cell_type": "code",
   "execution_count": 51,
   "id": "fa184ad1",
   "metadata": {},
   "outputs": [
    {
     "name": "stdout",
     "output_type": "stream",
     "text": [
      "152\n",
      "addition successfull\n"
     ]
    }
   ],
   "source": [
    "#single inheritence in python\n",
    "class a():\n",
    "    def addi(self,a,b):\n",
    "        self.a=a\n",
    "        self.b=b\n",
    "        print(self.a+self.b)\n",
    "class b(a):\n",
    "    def show(self):\n",
    "        print (\"addition successfull\")\n",
    "d=b()\n",
    "d.addi(63,89)\n",
    "d.show()"
   ]
  },
  {
   "cell_type": "code",
   "execution_count": 54,
   "id": "40780213",
   "metadata": {},
   "outputs": [
    {
     "name": "stdout",
     "output_type": "stream",
     "text": [
      "27\n",
      "3\n",
      "addition and substraction are performed \n"
     ]
    }
   ],
   "source": [
    "# multilevel inheritence in python\n",
    "class a():\n",
    "    def add(self,a,b):\n",
    "        self.a=a\n",
    "        self.b=b\n",
    "        print(self.a+self.b)\n",
    "class b(a):\n",
    "    def sub(self,a,b):\n",
    "        self.a=a\n",
    "        self.b=b\n",
    "        print(self.a-self.b)\n",
    "class c(b):\n",
    "    def sg(self):\n",
    "        print(\"addition and substraction are performed \")\n",
    "d=c()\n",
    "d.add(12,15)\n",
    "d.sub(15,12)\n",
    "d.sg()"
   ]
  },
  {
   "cell_type": "code",
   "execution_count": 55,
   "id": "ece1be61",
   "metadata": {},
   "outputs": [
    {
     "name": "stdout",
     "output_type": "stream",
     "text": [
      "from parent class\n",
      "from child class\n",
      "from parent class\n",
      "from child class\n",
      "from parent class\n",
      "from child class\n"
     ]
    }
   ],
   "source": [
    "# hierchical inheritence in python\n",
    "class a():\n",
    "    def show(self):\n",
    "        print(\"from parent class\")\n",
    "class b(a):\n",
    "    def disp(self):\n",
    "        print(\"from child class\")\n",
    "class c(a):\n",
    "    def disp1(self):\n",
    "        print(\"from child class\")        \n",
    "class d(a):\n",
    "    def disp2(self):\n",
    "        print(\"from child class\")\n",
    "m=b()\n",
    "s=c()\n",
    "g=d()\n",
    "m.show()\n",
    "m.disp()\n",
    "s.show()\n",
    "s.disp1()\n",
    "g.show()\n",
    "g.disp2()"
   ]
  },
  {
   "cell_type": "code",
   "execution_count": 58,
   "id": "fc32095c",
   "metadata": {},
   "outputs": [
    {
     "name": "stdout",
     "output_type": "stream",
     "text": [
      "from class a\n",
      "from class b\n",
      "from class c\n",
      "from class d\n"
     ]
    }
   ],
   "source": [
    "# multiple inheritence in python\n",
    "class a():\n",
    "    def show(self):\n",
    "        print(\"from class a\")\n",
    "class b(a):\n",
    "    def disp(self):\n",
    "        print(\"from class b\")\n",
    "class c(a):\n",
    "    def disp1(self):\n",
    "        print(\"from class c\")        \n",
    "class d(b,c):\n",
    "    def disp2(self):\n",
    "        print(\"from class d\")\n",
    "m=d()\n",
    "m.show()\n",
    "m.disp()\n",
    "m.disp1()\n",
    "m.disp2()"
   ]
  },
  {
   "cell_type": "code",
   "execution_count": 64,
   "id": "8c0c9640",
   "metadata": {},
   "outputs": [
    {
     "name": "stdout",
     "output_type": "stream",
     "text": [
      "enter the element12\n",
      "enter the element3\n",
      "division is = 4\n",
      "thank you\n"
     ]
    }
   ],
   "source": [
    "# exception handling in python\n",
    "m=int(input(\"enter the element\"))\n",
    "n=int(input(\"enter the element\"))\n",
    "try:\n",
    "    s=m//n\n",
    "except:\n",
    "    print(\"zero divisible not possible\")\n",
    "else:\n",
    "    print(f\"division is = {s}\")\n",
    "finally:\n",
    "    print(\"thank you\")"
   ]
  },
  {
   "cell_type": "code",
   "execution_count": 70,
   "id": "8f4d8b0b",
   "metadata": {},
   "outputs": [
    {
     "name": "stdout",
     "output_type": "stream",
     "text": [
      "write successfully\n",
      "i love you mou\n",
      "read successfully\n",
      "write successfully\n",
      "i love you mou from sourav\n",
      "read successfully after append\n"
     ]
    }
   ],
   "source": [
    "# Normal file handeling in python\n",
    "#writing data on a file\n",
    "f= open(\"hi.txt\",\"w\")\n",
    "da=\"i love you mou\"\n",
    "f.write(da)\n",
    "print(\"write successfully\")\n",
    "f.close()\n",
    "#reading data from a file\n",
    "f= open(\"hi.txt\",\"r\")\n",
    "k=f.read()\n",
    "print(k)\n",
    "print(\"read successfully\")\n",
    "f.close()\n",
    "#append data in a file\n",
    "f= open(\"hi.txt\",\"a\")\n",
    "da=\" from sourav\"\n",
    "f.write(da)\n",
    "print(\"write successfully\")\n",
    "f.close()\n",
    "#read data after append in a file\n",
    "f= open(\"hi.txt\",\"r\")\n",
    "k=f.read()\n",
    "print(k)\n",
    "print(\"read successfully after append\")\n",
    "f.close()"
   ]
  },
  {
   "cell_type": "code",
   "execution_count": 76,
   "id": "dc35f08c",
   "metadata": {},
   "outputs": [
    {
     "name": "stdout",
     "output_type": "stream",
     "text": [
      "writing successfully\n",
      "hello every one\n",
      "reading successfully\n"
     ]
    }
   ],
   "source": [
    "# binary file handeling in python\n",
    "import pickle\n",
    "#writing in a binary file\n",
    "with open(\"he.dat\",\"wb\") as f:\n",
    "    dat=\"hello every one\"\n",
    "    pickle.dump(dat,f)\n",
    "    print(\"writing successfully\")\n",
    "with open(\"he.dat\",\"rb\") as f:\n",
    "    date= pickle.load(f)\n",
    "    print(date)\n",
    "    print(\"reading successfully\")"
   ]
  },
  {
   "cell_type": "code",
   "execution_count": 81,
   "id": "e96b9afe",
   "metadata": {},
   "outputs": [
    {
     "name": "stdout",
     "output_type": "stream",
     "text": [
      "array('i', [12, 14, 15, 18, 17])\n",
      "array('i', [12, 14, 15, 18, 852, 17])\n",
      "array('i', [12, 14, 15, 18, 852, 17, 52])\n",
      "array('i', [12, 14, 18, 852, 17, 52])\n",
      "array('i', [52, 17, 852, 18, 14, 12])\n",
      "array('i', [52, 17, 852, 18, 14, 12])\n",
      "<class 'array.array'>\n"
     ]
    }
   ],
   "source": [
    "# array operation in python\n",
    "from array import *\n",
    "arr= array('i',[12,14,15,18,17])\n",
    "print(arr)\n",
    "arr.insert(4,852)\n",
    "print(arr)\n",
    "arr.append(52)\n",
    "print(arr)\n",
    "#arr.extend(32)\n",
    "#print(arr)\n",
    "arr.remove(15)\n",
    "print(arr)\n",
    "arr.reverse()\n",
    "print(arr)\n",
    "arr.tolist()\n",
    "print(arr)\n",
    "print(type(arr))"
   ]
  },
  {
   "cell_type": "code",
   "execution_count": 87,
   "id": "6fba0b9e",
   "metadata": {},
   "outputs": [
    {
     "name": "stdout",
     "output_type": "stream",
     "text": [
      "enter any string:- mounitabagoli01@gmail.com\n",
      "matched\n"
     ]
    }
   ],
   "source": [
    "# regular expression in python\n",
    "import re\n",
    "s=input(\"enter any string:- \")\n",
    "se=\"matched\"if re.search(\"^.*@gmail.com$\",s)else \"not matched\"\n",
    "print(se)"
   ]
  },
  {
   "cell_type": "code",
   "execution_count": 88,
   "id": "594cb883",
   "metadata": {},
   "outputs": [
    {
     "name": "stdout",
     "output_type": "stream",
     "text": [
      "20\n"
     ]
    }
   ],
   "source": [
    "#ternary operat\n",
    "a=10\n",
    "b=20\n",
    "print(a) if a>b else print(b)"
   ]
  },
  {
   "cell_type": "code",
   "execution_count": null,
   "id": "1bcafecf",
   "metadata": {},
   "outputs": [],
   "source": []
  }
 ],
 "metadata": {
  "kernelspec": {
   "display_name": "Python 3 (ipykernel)",
   "language": "python",
   "name": "python3"
  },
  "language_info": {
   "codemirror_mode": {
    "name": "ipython",
    "version": 3
   },
   "file_extension": ".py",
   "mimetype": "text/x-python",
   "name": "python",
   "nbconvert_exporter": "python",
   "pygments_lexer": "ipython3",
   "version": "3.9.12"
  }
 },
 "nbformat": 4,
 "nbformat_minor": 5
}
