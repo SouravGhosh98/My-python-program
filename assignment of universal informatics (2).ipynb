{
 "cells": [
  {
   "cell_type": "markdown",
   "id": "df61b1f9",
   "metadata": {},
   "source": [
    "# write a program to calculate squre of given no"
   ]
  },
  {
   "cell_type": "code",
   "execution_count": 2,
   "id": "99192ca0",
   "metadata": {},
   "outputs": [
    {
     "name": "stdout",
     "output_type": "stream",
     "text": [
      "enter any number 8\n",
      "value of square is :  64\n"
     ]
    }
   ],
   "source": [
    "n=eval(input(\"enter any number \"))\n",
    "print(\"value of square is : \",n*n)"
   ]
  },
  {
   "cell_type": "markdown",
   "id": "78feca64",
   "metadata": {},
   "source": [
    "# write a program to swap using third variable"
   ]
  },
  {
   "cell_type": "code",
   "execution_count": 3,
   "id": "04237331",
   "metadata": {},
   "outputs": [
    {
     "name": "stdout",
     "output_type": "stream",
     "text": [
      "enter the first number: 5\n",
      "enter the second number: 6\n",
      "the first no is after the swap  6\n",
      "the second no is after the swap  5\n"
     ]
    }
   ],
   "source": [
    "n1=eval(input(\"enter the first number: \"))\n",
    "n2= eval(input(\"enter the second number: \"))\n",
    "temp=n1\n",
    "n1=n2\n",
    "n2=temp\n",
    "print(\"the first no is after the swap \",n1)\n",
    "print(\"the second no is after the swap \",n2)"
   ]
  },
  {
   "cell_type": "markdown",
   "id": "53043c0d",
   "metadata": {},
   "source": [
    "# write a program to swap without using third variable"
   ]
  },
  {
   "cell_type": "code",
   "execution_count": 4,
   "id": "2e7fb2d8",
   "metadata": {},
   "outputs": [
    {
     "name": "stdout",
     "output_type": "stream",
     "text": [
      "enter the first number: 9\n",
      "enter the second number: 6\n",
      "the first no is after the swap  6\n",
      "the second no is after the swap  9\n"
     ]
    }
   ],
   "source": [
    "a=eval(input(\"enter the first number: \"))\n",
    "b= eval(input(\"enter the second number: \"))\n",
    "a=a+b\n",
    "b=a-b\n",
    "a=a-b\n",
    "print(\"the first no is after the swap \",a)\n",
    "print(\"the second no is after the swap \",b)"
   ]
  },
  {
   "cell_type": "markdown",
   "id": "b5d71f79",
   "metadata": {},
   "source": [
    "# write a program to calculate area of a triangle"
   ]
  },
  {
   "cell_type": "code",
   "execution_count": 6,
   "id": "b9685197",
   "metadata": {},
   "outputs": [
    {
     "name": "stdout",
     "output_type": "stream",
     "text": [
      "enter the base: 3\n",
      "enter the hight: 2.5\n",
      "area of the triangle:  3.75\n"
     ]
    }
   ],
   "source": [
    "b=eval(input(\"enter the base: \"))\n",
    "h= eval(input(\"enter the hight: \"))\n",
    "ar= (1/2)*h*b\n",
    "print(\"area of the triangle: \",ar)"
   ]
  },
  {
   "cell_type": "markdown",
   "id": "c5f55190",
   "metadata": {},
   "source": [
    "# write a program to calculate area of a circle"
   ]
  },
  {
   "cell_type": "code",
   "execution_count": 9,
   "id": "6bf258ff",
   "metadata": {},
   "outputs": [
    {
     "name": "stdout",
     "output_type": "stream",
     "text": [
      "enter the value of reidous:-(-2.5)\n",
      "the value of area is  19.642857142857142\n"
     ]
    }
   ],
   "source": [
    "r=eval(input(\"enter the value of reidous:-\"))\n",
    "area= (22/7)*r*r\n",
    "print(\"the value of area is \",area)"
   ]
  },
  {
   "cell_type": "markdown",
   "id": "c55f3606",
   "metadata": {},
   "source": [
    "# write a program to calculate simple interest"
   ]
  },
  {
   "cell_type": "code",
   "execution_count": 10,
   "id": "eeee9de2",
   "metadata": {},
   "outputs": [
    {
     "name": "stdout",
     "output_type": "stream",
     "text": [
      "enter the given moeny: 8000\n",
      "enter the time: 2\n",
      "enter the interest rate: 2.5\n",
      "simple interest = 400.0\n"
     ]
    }
   ],
   "source": [
    "p=eval(input(\"enter the given moeny: \"))\n",
    "t= eval(input(\"enter the time: \"))\n",
    "r=eval(input(\"enter the interest rate: \"))\n",
    "si=(p*t*r)/100\n",
    "print(\"simple interest =\",si)\n"
   ]
  },
  {
   "cell_type": "markdown",
   "id": "bdf5a805",
   "metadata": {},
   "source": [
    "# write a program to convert distance from KM TO MM "
   ]
  },
  {
   "cell_type": "code",
   "execution_count": 11,
   "id": "3f06c842",
   "metadata": {},
   "outputs": [
    {
     "name": "stdout",
     "output_type": "stream",
     "text": [
      "enter the given Kilometer: 3\n",
      " the distance in meter  3000\n"
     ]
    }
   ],
   "source": [
    "p=eval(input(\"enter the given Kilometer: \"))\n",
    "m= 1000*p\n",
    "print(\" the distance in meter \", m)"
   ]
  },
  {
   "cell_type": "markdown",
   "id": "4f343c4a",
   "metadata": {},
   "source": [
    "# write a program to calculate average of three numbers"
   ]
  },
  {
   "cell_type": "code",
   "execution_count": 12,
   "id": "042af030",
   "metadata": {},
   "outputs": [
    {
     "name": "stdout",
     "output_type": "stream",
     "text": [
      "enter the first number: 3\n",
      "enter the second number: 6\n",
      "enter the third number: 9\n",
      "the average value is :-   6.0\n"
     ]
    }
   ],
   "source": [
    "n1=eval(input(\"enter the first number: \"))\n",
    "n2= eval(input(\"enter the second number: \"))\n",
    "n3=eval(input(\"enter the third number: \"))\n",
    "ave= (n1+n2+n3)/3\n",
    "print(\"the average value is :-  \", ave)\n"
   ]
  },
  {
   "cell_type": "markdown",
   "id": "2fa84f13",
   "metadata": {},
   "source": [
    "# write a program to calculate temperture conversion from celsius to fahrenheit (F=(9/5C +32)9/5)"
   ]
  },
  {
   "cell_type": "code",
   "execution_count": 14,
   "id": "7d4c2eea",
   "metadata": {},
   "outputs": [
    {
     "name": "stdout",
     "output_type": "stream",
     "text": [
      "enter the VALUE OF celsius:--40\n",
      "the fahrenheit value is :- -40.0\n"
     ]
    }
   ],
   "source": [
    "C=eval(input(\"enter the VALUE OF celsius:-\"))\n",
    "f=(9/5)*C+32\n",
    "print(\"the fahrenheit value is :-\",f)\n"
   ]
  },
  {
   "cell_type": "markdown",
   "id": "09eddb95",
   "metadata": {},
   "source": [
    "# Write a program to calculate temperature conversion from Fahrenheit to Celsius"
   ]
  },
  {
   "cell_type": "code",
   "execution_count": 16,
   "id": "b2d7bb35",
   "metadata": {},
   "outputs": [
    {
     "name": "stdout",
     "output_type": "stream",
     "text": [
      "enter the Fahrenhite: 52\n",
      "the celsius value is:- 11.11111111111111\n"
     ]
    }
   ],
   "source": [
    "f=eval(input(\"enter the Fahrenhite: \"))\n",
    "c=(f-32)*5/9\n",
    "print(\"the celsius value is:-\",c)\n"
   ]
  },
  {
   "cell_type": "markdown",
   "id": "0b486340",
   "metadata": {},
   "source": [
    "# A cashier has some amount of money (e.g.rs 4526). write a program to calculate out how many currency of rs 2000, rs1000 ,rs500,rs100,rs50,rs20, rs10  ,rs5 and coins required"
   ]
  },
  {
   "cell_type": "code",
   "execution_count": 23,
   "id": "29f4c97f",
   "metadata": {},
   "outputs": [
    {
     "name": "stdout",
     "output_type": "stream",
     "text": [
      "enter the Fahrenhite: 5000\n",
      "2000 rs note is  2.5\n",
      "1000 rs note is  0.0\n",
      "500 rs note is  10.0\n"
     ]
    }
   ],
   "source": [
    "sm=eval(input(\"enter the Fahrenhite: \"))\n",
    "k=sm/2000\n",
    "print(\"2000 rs note is \", k)\n",
    "ne=(sm-(k*2000))\n",
    "i=ne//1000\n",
    "print(\"1000 rs note is \", i)\n",
    "j=(sm-(i*1000))//500\n",
    "print(\"500 rs note is \", j)"
   ]
  },
  {
   "cell_type": "code",
   "execution_count": 11,
   "id": "132b12cb",
   "metadata": {},
   "outputs": [
    {
     "name": "stdout",
     "output_type": "stream",
     "text": [
      "5 4 3 2 * \n",
      "5 4 3 * 1 \n",
      "5 4 * 2 1 \n",
      "5 * 3 2 1 \n",
      "* 4 3 2 1 \n"
     ]
    }
   ],
   "source": [
    "for i in range(1,6):\n",
    "    for j in range(5,0,-1):\n",
    "        if(i==j):\n",
    "            print(\"*\",end=\" \")\n",
    "        else:\n",
    "            print(j,end=\" \")\n",
    "                    \n",
    "    print()"
   ]
  },
  {
   "cell_type": "markdown",
   "id": "5e7945a8",
   "metadata": {},
   "source": [
    "a=[1,2,3,4,5]\n",
    "b=[6,7,8,9,10]\n",
    "c=[]\n",
    "\n",
    "for i in range(5):\n",
    "    c.append(a[i])\n",
    "    \n",
    "    if i<5:\n",
    "        c.append(b[i])\n",
    "        \n",
    "print(c)\n"
   ]
  },
  {
   "cell_type": "code",
   "execution_count": 50,
   "id": "cdf0e21c",
   "metadata": {},
   "outputs": [
    {
     "ename": "IndexError",
     "evalue": "list assignment index out of range",
     "output_type": "error",
     "traceback": [
      "\u001b[1;31m---------------------------------------------------------------------------\u001b[0m",
      "\u001b[1;31mIndexError\u001b[0m                                Traceback (most recent call last)",
      "Input \u001b[1;32mIn [50]\u001b[0m, in \u001b[0;36m<cell line: 4>\u001b[1;34m()\u001b[0m\n\u001b[0;32m      4\u001b[0m \u001b[38;5;28;01mfor\u001b[39;00m i \u001b[38;5;129;01min\u001b[39;00m \u001b[38;5;28mrange\u001b[39m(\u001b[38;5;241m0\u001b[39m,\u001b[38;5;241m10\u001b[39m):\n\u001b[0;32m      5\u001b[0m     \u001b[38;5;28;01mif\u001b[39;00m(i\u001b[38;5;241m<\u001b[39m\u001b[38;5;241m5\u001b[39m):\n\u001b[1;32m----> 6\u001b[0m         c[i]\u001b[38;5;241m=\u001b[39ma[i]\n\u001b[0;32m      8\u001b[0m     \u001b[38;5;28;01melse\u001b[39;00m:\n\u001b[0;32m      9\u001b[0m         c[i]\u001b[38;5;241m=\u001b[39mb[i\u001b[38;5;241m-\u001b[39m\u001b[38;5;241m5\u001b[39m]\n",
      "\u001b[1;31mIndexError\u001b[0m: list assignment index out of range"
     ]
    }
   ],
   "source": [
    "\n",
    "a=[1,2,3,4,5]\n",
    "b=[6,7,8,9,10]\n",
    "c=[]\n",
    "for i in range(0,10):\n",
    "\n",
    "    if(i<5):\n",
    "        c[i]=a[i]\n",
    "        \n",
    "    else:\n",
    "        c[i]=b[i-5]\n",
    "        \n",
    "print(c)"
   ]
  },
  {
   "cell_type": "code",
   "execution_count": null,
   "id": "1139e51b",
   "metadata": {},
   "outputs": [],
   "source": []
  }
 ],
 "metadata": {
  "kernelspec": {
   "display_name": "Python 3 (ipykernel)",
   "language": "python",
   "name": "python3"
  },
  "language_info": {
   "codemirror_mode": {
    "name": "ipython",
    "version": 3
   },
   "file_extension": ".py",
   "mimetype": "text/x-python",
   "name": "python",
   "nbconvert_exporter": "python",
   "pygments_lexer": "ipython3",
   "version": "3.9.12"
  }
 },
 "nbformat": 4,
 "nbformat_minor": 5
}
